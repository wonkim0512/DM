{
 "cells": [
  {
   "cell_type": "markdown",
   "metadata": {},
   "source": [
    "# Clustering\n",
    "FIRA Big Data Platform < Data Mining >"
   ]
  },
  {
   "cell_type": "markdown",
   "metadata": {},
   "source": [
    "### 1. Data\n",
    "- 1-1. `BathSoap.xlsx`\n",
    "- 1-2. Data Load : `pd.read_xlsx`\n",
    "- 1-3. Join Table : `pd.merge`\n",
    "- 1-4. Delete Rows & Columns\n",
    "\n",
    "### 2. Hierarchical Clustering \n",
    "- 2-1. `sklearn.cluster.AgglomerativeClustering`\n",
    "- 2-2. Clustering with Dendrogram : `scipy.cluster.hierarchy`\n",
    "\n",
    "### 3. K-means\n",
    "- 3-1. `sklearn.cluster.KMeans`\n",
    "\n",
    "### 4. Analysis \n",
    "- 4-1. Choose K : Using Silhouette Plot\n",
    "- 4-2. .groupby()\n",
    "\n",
    "### 5. 실습 : 비누 판매 마케팅 전략 수립을 위한 데이터 분석\n",
    "- 5-1. More Preprocessing\n",
    "- 5-2. 비누 구매 고객 세분화\n",
    "- 5-3. 타겟 클러스터 선정 및 마케팅 기획"
   ]
  },
  {
   "cell_type": "markdown",
   "metadata": {},
   "source": [
    "### 1. Data\n",
    "---\n",
    "- 1-1. `BathSoap.xlsx`\n",
    "- 1-2. Data Load : `pd.read_xlsx`\n",
    "- 1-3. Join Table : `pd.merge`\n",
    "- 1-4. Delete Rows & Columns"
   ]
  },
  {
   "cell_type": "markdown",
   "metadata": {},
   "source": [
    "#### 1-1.  `BathSoap.xlsx`\n",
    "---\n",
    "- sheet3 : DM_Sheet, 멤버 정보 및 비누 구입 정보\n",
    "- sheet4 : Durables, 멤버들의 비누 이외 타물품 소유 정보\n",
    "---\n",
    "비누를 구매한 고객들의 데이터를 토대로 군집화를 이용하여 효과적인 마케팅 전략을 수립하려고 한다. 총 600개의 표본을 각종 변수를 고려하여 치밀하게 표집하였다. 주어진 데이터는 각종 인구통계자료, 내구재 소유 자료, 제품의 카테고리와 각 브랜드에 대한 구매 데이터이다."
   ]
  },
  {
   "cell_type": "markdown",
   "metadata": {},
   "source": [
    "*Q. 군집화는 마케팅 전략을 세우는데 어떤 역할을 할 수 있는가?*"
   ]
  },
  {
   "cell_type": "markdown",
   "metadata": {},
   "source": [
    "#### 1-2. Data Load : `pd.read_excel`\n",
    "---\n",
    "`BathSoap.xlsx` 파일에서 데이터가 있는 sheet를 DataFrame으로 변환\n",
    "* pd.read_excel document 참고\n",
    "* sheet 위치, header로 쓸 row를 잘 지정할 것\n",
    "* row의 시작은 0"
   ]
  },
  {
   "cell_type": "code",
   "execution_count": 1,
   "metadata": {
    "collapsed": true
   },
   "outputs": [],
   "source": [
    "import pandas as pd"
   ]
  },
  {
   "cell_type": "code",
   "execution_count": 2,
   "metadata": {
    "collapsed": true
   },
   "outputs": [],
   "source": [
    "# df\n",
    "df = pd.read_excel('BathSoap.xlsx', 2, header=2)"
   ]
  },
  {
   "cell_type": "code",
   "execution_count": 3,
   "metadata": {
    "collapsed": true
   },
   "outputs": [],
   "source": [
    "# durable_df\n",
    "durable_df = pd.read_excel('BathSoap.xlsx', 3, header=4)"
   ]
  },
  {
   "cell_type": "markdown",
   "metadata": {},
   "source": [
    "#### 1-3. Join Table : `pd.merge`\n",
    "---\n",
    "DM_Sheet와 Durables의 DataFrame을 통합\n",
    "* 'Member id', 'MEM'을 기준으로 통합, Inner Join"
   ]
  },
  {
   "cell_type": "code",
   "execution_count": 4,
   "metadata": {
    "collapsed": true
   },
   "outputs": [],
   "source": [
    "# merged_df & set_index\n",
    "merged_df = df.merge(durable_df, how=\"inner\", left_on='Member id', right_on='MEM').set_index('Member id')"
   ]
  },
  {
   "cell_type": "markdown",
   "metadata": {},
   "source": [
    "#### 1-4. Delete Rows & Columns\n",
    "---\n",
    "* Delete Rows : 결측치가 있는 행은 지울 것\n",
    "* Delete Columns : 겹치거나 문제가 있는 열을 지울 것"
   ]
  },
  {
   "cell_type": "code",
   "execution_count": 5,
   "metadata": {
    "collapsed": true
   },
   "outputs": [],
   "source": [
    "# Delete Rows : no_nan_df \n",
    "no_nan_df = merged_df[merged_df.isnull().sum(axis=1) == 0]"
   ]
  },
  {
   "cell_type": "code",
   "execution_count": 6,
   "metadata": {
    "collapsed": true
   },
   "outputs": [],
   "source": [
    "# Delete columns : X_df\n",
    "X_df = no_nan_df.drop(['MEM', 'Unnamed: 1'], axis=1)"
   ]
  },
  {
   "cell_type": "markdown",
   "metadata": {},
   "source": [
    "### 2. Hierarchical Clustering \n",
    "---\n",
    "\n",
    "\n",
    "#### 2-1. `sklearn.cluster.AgglomerativeClustering`\n",
    "---\n",
    "- Parameter\n",
    "    - `n_cluster` - 클러스터의 개수\n",
    "- Return : 모든 데이터의 Label"
   ]
  },
  {
   "cell_type": "code",
   "execution_count": 7,
   "metadata": {
    "collapsed": true
   },
   "outputs": [],
   "source": [
    "# import packages\n",
    "from sklearn.cluster import AgglomerativeClustering"
   ]
  },
  {
   "cell_type": "code",
   "execution_count": 8,
   "metadata": {
    "collapsed": true
   },
   "outputs": [],
   "source": [
    "# parameter setting\n",
    "n_clusters = 5"
   ]
  },
  {
   "cell_type": "code",
   "execution_count": 9,
   "metadata": {
    "collapsed": true
   },
   "outputs": [],
   "source": [
    "# sklearn_hc_model\n",
    "sklearn_hc_model = AgglomerativeClustering(n_clusters=n_clusters)"
   ]
  },
  {
   "cell_type": "code",
   "execution_count": 10,
   "metadata": {},
   "outputs": [
    {
     "data": {
      "text/plain": [
       "AgglomerativeClustering(affinity='euclidean', compute_full_tree='auto',\n",
       "            connectivity=None, linkage='ward',\n",
       "            memory=Memory(cachedir=None), n_clusters=5,\n",
       "            pooling_func=<function mean at 0x7f92b40f7400>)"
      ]
     },
     "execution_count": 10,
     "metadata": {},
     "output_type": "execute_result"
    }
   ],
   "source": [
    "# fit to model\n",
    "sklearn_hc_model.fit(X_df)"
   ]
  },
  {
   "cell_type": "code",
   "execution_count": 11,
   "metadata": {
    "collapsed": true
   },
   "outputs": [],
   "source": [
    "# get predicted labels\n",
    "predicted_labels_sklearn = sklearn_hc_model.labels_\n",
    "#sklearn_model.fit_predict(X_df)"
   ]
  },
  {
   "cell_type": "code",
   "execution_count": 12,
   "metadata": {},
   "outputs": [
    {
     "ename": "NameError",
     "evalue": "name 'preprocessed_df' is not defined",
     "output_type": "error",
     "traceback": [
      "\u001b[0;31m---------------------------------------------------------------------------\u001b[0m",
      "\u001b[0;31mNameError\u001b[0m                                 Traceback (most recent call last)",
      "\u001b[0;32m<ipython-input-12-4d48b74646e3>\u001b[0m in \u001b[0;36m<module>\u001b[0;34m()\u001b[0m\n\u001b[1;32m      1\u001b[0m \u001b[0;31m# add result column to copied df\u001b[0m\u001b[0;34m\u001b[0m\u001b[0;34m\u001b[0m\u001b[0m\n\u001b[0;32m----> 2\u001b[0;31m \u001b[0mresult_df\u001b[0m \u001b[0;34m=\u001b[0m \u001b[0mpreprocessed_df\u001b[0m\u001b[0;34m.\u001b[0m\u001b[0mcopy\u001b[0m\u001b[0;34m(\u001b[0m\u001b[0;34m)\u001b[0m\u001b[0;34m\u001b[0m\u001b[0m\n\u001b[0m\u001b[1;32m      3\u001b[0m \u001b[0mresult_df\u001b[0m\u001b[0;34m[\u001b[0m\u001b[0;34m'sklearn_hc_labels'\u001b[0m\u001b[0;34m]\u001b[0m \u001b[0;34m=\u001b[0m \u001b[0mpredicted_labels_sklearn\u001b[0m\u001b[0;34m\u001b[0m\u001b[0m\n",
      "\u001b[0;31mNameError\u001b[0m: name 'preprocessed_df' is not defined"
     ]
    }
   ],
   "source": [
    "# add result column to copied df\n",
    "result_df = preprocessed_df.copy()\n",
    "result_df['sklearn_hc_labels'] = predicted_labels_sklearn"
   ]
  },
  {
   "cell_type": "markdown",
   "metadata": {},
   "source": [
    "#### 2-2. Clustering with Dendrogram : `scipy.cluster.hierarchy`\n",
    "---\n",
    "- Linkage Matrix\n",
    "- Dendromgram & Set k\n",
    "- get predicted_labels "
   ]
  },
  {
   "cell_type": "markdown",
   "metadata": {},
   "source": [
    "##### Linkage Matrix : `scipy.cluster.hierarchy.linkage`"
   ]
  },
  {
   "cell_type": "code",
   "execution_count": null,
   "metadata": {
    "collapsed": true
   },
   "outputs": [],
   "source": [
    "# import packages\n",
    "from scipy.cluster.hierarchy import linkage"
   ]
  },
  {
   "cell_type": "code",
   "execution_count": null,
   "metadata": {
    "collapsed": true
   },
   "outputs": [],
   "source": [
    "# Z = linkage(X, method)\n",
    "Z = linkage(preprocessed_df, 'centroid')"
   ]
  },
  {
   "cell_type": "code",
   "execution_count": null,
   "metadata": {
    "collapsed": true
   },
   "outputs": [],
   "source": [
    "# What is Z, linkage?\n",
    "Z[:10]"
   ]
  },
  {
   "cell_type": "markdown",
   "metadata": {},
   "source": [
    "##### Dendrogram & Set k : `scipy.cluster.hierarchy.dendrogram`"
   ]
  },
  {
   "cell_type": "code",
   "execution_count": null,
   "metadata": {
    "collapsed": true
   },
   "outputs": [],
   "source": [
    "from matplotlib import pyplot as plt\n",
    "from scipy.cluster.hierarchy import dendrogram"
   ]
  },
  {
   "cell_type": "code",
   "execution_count": null,
   "metadata": {
    "collapsed": true
   },
   "outputs": [],
   "source": [
    "def plot_dendrogram(title, xlabel, ylabel, Z, max_d=None, p=None):\n",
    "    # Settings for figure\n",
    "    plt.figure(figsize=(25, 10))\n",
    "    plt.title('Hierarchical Clustering Dendrogram')\n",
    "    plt.xlabel('Index of Data')\n",
    "    plt.ylabel('Distance')\n",
    "\n",
    "    # Dendrogram\n",
    "    if p:\n",
    "        dendrogram(\n",
    "            Z,\n",
    "            leaf_rotation=90.,  # rotates the x axis labels\n",
    "            leaf_font_size=8.,  # font size for the x axis labels\n",
    "            truncate_mode = 'lastp',\n",
    "            p=p,\n",
    "            show_contracted = True\n",
    "        )\n",
    "    else:\n",
    "        dendrogram(\n",
    "            Z,\n",
    "            leaf_rotation=90.,  # rotates the x axis labels\n",
    "            leaf_font_size=8.,  # font size for the x axis labels\n",
    "        )\n",
    "    \n",
    "    if max_d:\n",
    "        plt.axhline(y=max_d, c='k')\n",
    "    plt.show()"
   ]
  },
  {
   "cell_type": "code",
   "execution_count": null,
   "metadata": {
    "collapsed": true
   },
   "outputs": [],
   "source": [
    "# plot dendrogram\n",
    "plot_dendrogram('Hierarhcical Clustering Dendrogram', 'Index of Data', 'Distance', \n",
    "                Z)"
   ]
  },
  {
   "cell_type": "code",
   "execution_count": null,
   "metadata": {
    "collapsed": true
   },
   "outputs": [],
   "source": [
    "# Dendrogram에 표현할 가지의 개수 정하기 - set p\n",
    "plot_dendrogram('Hierarhcical Clustering Dendrogram', 'Index of Data', 'Distance', \n",
    "                Z, p=6)"
   ]
  },
  {
   "cell_type": "code",
   "execution_count": null,
   "metadata": {
    "collapsed": true
   },
   "outputs": [],
   "source": [
    "# k를 결정하기 위해, k보다 큰 개수의 p를 가진 dendrogram을 그리고, max_distance를 결정한다.\n",
    "plot_dendrogram('Hierarhcical Clustering Dendrogram', 'Index of Data', 'Distance', \n",
    "                Z, p=6)\n",
    "max_d = 45000"
   ]
  },
  {
   "cell_type": "code",
   "execution_count": null,
   "metadata": {
    "collapsed": true
   },
   "outputs": [],
   "source": [
    "# max_distance에 해당하는 선을 Dendrogram에 그려서 원하는 k를 표현하기 위한 max_distance를 확정한다.\n",
    "plot_dendrogram('Hierarhcical Clustering Dendrogram', 'Index of Data', 'Distance', \n",
    "                Z, p=6, max_d=max_d)"
   ]
  },
  {
   "cell_type": "markdown",
   "metadata": {},
   "source": [
    "##### predicted_labels : `scipy.cluster.hierarchy.fcluster`"
   ]
  },
  {
   "cell_type": "code",
   "execution_count": null,
   "metadata": {
    "collapsed": true
   },
   "outputs": [],
   "source": [
    "# import packages\n",
    "from scipy.cluster.hierarchy import fcluster"
   ]
  },
  {
   "cell_type": "code",
   "execution_count": null,
   "metadata": {
    "collapsed": true
   },
   "outputs": [],
   "source": [
    "# predicted_labels\n",
    "predicted_labels_scipy = fcluster(Z, max_d, criterion='distance')"
   ]
  },
  {
   "cell_type": "code",
   "execution_count": null,
   "metadata": {
    "collapsed": true
   },
   "outputs": [],
   "source": [
    "# save to result_df\n",
    "result_df['scipy_hc_labels'] = predicted_labels_scipy"
   ]
  },
  {
   "cell_type": "markdown",
   "metadata": {},
   "source": [
    "### 3. K-Means\n",
    "---\n",
    "##### 3-1. `sklearn.cluster.KMeans`\n",
    "---\n",
    "- Parameter\n",
    "    - `n_cluster` - 클러스터의 개수\n",
    "- Return : 모든 데이터의 Label"
   ]
  },
  {
   "cell_type": "code",
   "execution_count": null,
   "metadata": {
    "collapsed": true
   },
   "outputs": [],
   "source": [
    "from sklearn.cluster import KMeans"
   ]
  },
  {
   "cell_type": "code",
   "execution_count": null,
   "metadata": {
    "collapsed": true
   },
   "outputs": [],
   "source": [
    "# set parameters\n",
    "n_clusters = 5"
   ]
  },
  {
   "cell_type": "code",
   "execution_count": null,
   "metadata": {
    "collapsed": true
   },
   "outputs": [],
   "source": [
    "# kmeans_model\n",
    "kmeans_model = KMeans(n_clusters=n_clusters)"
   ]
  },
  {
   "cell_type": "code",
   "execution_count": null,
   "metadata": {
    "collapsed": true
   },
   "outputs": [],
   "source": [
    "kmeans_model.fit(preprocessed_df)"
   ]
  },
  {
   "cell_type": "code",
   "execution_count": null,
   "metadata": {
    "collapsed": true
   },
   "outputs": [],
   "source": [
    "# predicted_labels\n",
    "predicted_labels_kmeans = kmeans_model.labels_\n",
    "#kmeans_model.fit_predict(preprocessed_df)"
   ]
  },
  {
   "cell_type": "code",
   "execution_count": null,
   "metadata": {
    "collapsed": true
   },
   "outputs": [],
   "source": [
    "# cluster_centers_\n",
    "kmeans_model.cluster_centers_"
   ]
  },
  {
   "cell_type": "code",
   "execution_count": null,
   "metadata": {
    "collapsed": true
   },
   "outputs": [],
   "source": [
    "# add result to result_df\n",
    "result_df['kmeans_labels'] = predicted_labels_kmeans"
   ]
  },
  {
   "cell_type": "markdown",
   "metadata": {},
   "source": [
    "### 4. Analysis\n",
    "---\n",
    "#### 4-1. Choose k : Using Silhouette Plot\n",
    "---"
   ]
  },
  {
   "cell_type": "code",
   "execution_count": null,
   "metadata": {
    "collapsed": true
   },
   "outputs": [],
   "source": [
    "# import packages\n",
    "from sklearn.metrics import silhouette_score, silhouette_samples\n",
    "import matplotlib.cm as cm"
   ]
  },
  {
   "cell_type": "code",
   "execution_count": null,
   "metadata": {
    "collapsed": true
   },
   "outputs": [],
   "source": [
    "# silhouette_avg\n",
    "silhoutette_avg = silhouette_score(X_df, result_df['kmeans_labels'])"
   ]
  },
  {
   "cell_type": "code",
   "execution_count": null,
   "metadata": {
    "collapsed": true
   },
   "outputs": [],
   "source": [
    "# silhouette_value of each data\n",
    "sample_silhouette_values = silhouette_samples(X_df, result_df['kmeans_labels'])"
   ]
  },
  {
   "cell_type": "code",
   "execution_count": null,
   "metadata": {
    "collapsed": true
   },
   "outputs": [],
   "source": [
    "def plot_silhouette(X_df, labels):\n",
    "    cluster_labels = sorted(np.unique(labels))\n",
    "    n_clusters = len(cluster_labels)\n",
    "    \n",
    "    plt.figure()\n",
    "\n",
    "    # axis setting\n",
    "    ax = plt.gca()\n",
    "    ax.set_xlim([-0.5, 1])\n",
    "    ax.set_ylim([0, X_df.shape[0] + (n_clusters + 1) * 10])\n",
    "\n",
    "    y_lower = 10\n",
    "    \n",
    "    silhouette_avg = silhouette_score(X_df, labels)\n",
    "    print(\"k : {}\".format(n_clusters))\n",
    "    print(\"silhouette_avg : {}\".format(silhouette_avg))\n",
    "    data_silhouette_values = silhouette_samples(X_df, labels)\n",
    "\n",
    "    for i in cluster_labels:\n",
    "        # 특정 클러스터의 silhouette 값만 추출\n",
    "        ith_cluster_silhouette_values = data_silhouette_values[labels == i]\n",
    "        \n",
    "        # 내림차순으로 정렬\n",
    "        ith_cluster_silhouette_values.sort()\n",
    "\n",
    "        # 해당 클러스터의 크기\n",
    "        size_cluster_i = len(ith_cluster_silhouette_values)\n",
    "       \n",
    "        # 클러스터의 silhouette을 표시할 y축 최고값 결정\n",
    "        y_upper = y_lower + size_cluster_i\n",
    "\n",
    "        # 색\n",
    "        color = cm.spectral(float(i) / n_clusters)\n",
    "        \n",
    "        # plot silhouette\n",
    "        ax.fill_betweenx(np.arange(y_lower, y_upper),\n",
    "                          0, ith_cluster_silhouette_values,\n",
    "                          facecolor=color, edgecolor=color, alpha=0.7)\n",
    "\n",
    "        # y축에 클러스터 이름 표시\n",
    "        ax.text(-0.05, y_lower + 0.5 * size_cluster_i, str(i))\n",
    "\n",
    "        # 다음 클러스터의 silhouette을 표시할 최저점 조정\n",
    "        y_lower = y_upper + 10  # 10 for the 0 samples\n",
    "\n",
    "    ax.set_title(\"The silhouette plot for k={}\".format(n_clusters))\n",
    "    ax.set_xlabel(\"The silhouette coefficient values\")\n",
    "    ax.set_ylabel(\"Cluster label\")\n",
    "\n",
    "    # silhouette 평균 값을 나타내는 선\n",
    "    ax.axvline(x=silhouette_avg, color=\"red\", linestyle=\"--\")\n",
    "\n",
    "    # y축 값 제거\n",
    "    ax.set_yticks([])\n",
    "\n",
    "    plt.show() "
   ]
  },
  {
   "cell_type": "code",
   "execution_count": null,
   "metadata": {
    "collapsed": true
   },
   "outputs": [],
   "source": [
    "# plot silhouette for choosing k\n",
    "k_candidates = [2, 3, 4, 5]\n",
    "for i in k_candidates:\n",
    "    ith_model = KMeans(n_clusters=i)\n",
    "    labels = ith_model.fit_predict(preprocessed_df)\n",
    "    plot_silhouette(preprocessed_df, labels)"
   ]
  },
  {
   "cell_type": "markdown",
   "metadata": {},
   "source": [
    "#### 4-2. groupby()"
   ]
  },
  {
   "cell_type": "code",
   "execution_count": null,
   "metadata": {
    "collapsed": true
   },
   "outputs": [],
   "source": [
    "result_df.groupby('scipy_labels').mean()"
   ]
  },
  {
   "cell_type": "markdown",
   "metadata": {},
   "source": [
    "*Q. 지금까지 진행해온 분석의 문제점은?*\n",
    "- 범주형 변수를 수치형 변수처럼 분석함\n",
    "- 수치형 데이터가 동일한 범위를 갖지 않음\n",
    "- 구매와 관련된 변수만 선택되지 않았음"
   ]
  },
  {
   "cell_type": "code",
   "execution_count": null,
   "metadata": {
    "collapsed": true
   },
   "outputs": [],
   "source": [
    "# Hint 1\n",
    "result_df.groupby('sklearn_labels').mean().iloc[:, :10]"
   ]
  },
  {
   "cell_type": "code",
   "execution_count": null,
   "metadata": {
    "collapsed": true
   },
   "outputs": [],
   "source": [
    "# Hint 2 \n",
    "X_df.iloc[:10, 11:46]"
   ]
  },
  {
   "cell_type": "code",
   "execution_count": null,
   "metadata": {
    "collapsed": true
   },
   "outputs": [],
   "source": [
    "# Hint 3 : 현재 변수의 개수\n",
    "X_df.columns"
   ]
  },
  {
   "cell_type": "markdown",
   "metadata": {},
   "source": [
    "### 5. 실습 : 비누 판매 마케팅 전략 수립을 위한 데이터 분석\n",
    "---\n",
    "#### 5-1. More Preprocessing\n",
    "---\n",
    "##### 1. ???"
   ]
  },
  {
   "cell_type": "markdown",
   "metadata": {},
   "source": []
  },
  {
   "cell_type": "code",
   "execution_count": null,
   "metadata": {
    "collapsed": true
   },
   "outputs": [],
   "source": [
    "list(X_df.columns)"
   ]
  },
  {
   "cell_type": "code",
   "execution_count": null,
   "metadata": {
    "collapsed": true
   },
   "outputs": [],
   "source": [
    "# dummify needed cols =\n",
    "# dummified_df\n",
    "dummy_needed_cols = ['FEH','MT', 'SEX', 'CHILD', 'CS']\n",
    "dummified_df = pd.get_dummies(X_df, columns=dummy_needed_cols)"
   ]
  },
  {
   "cell_type": "code",
   "execution_count": null,
   "metadata": {
    "collapsed": true
   },
   "outputs": [],
   "source": [
    "list(dummified_df.columns)"
   ]
  },
  {
   "cell_type": "markdown",
   "metadata": {},
   "source": [
    "##### 2. ???"
   ]
  },
  {
   "cell_type": "code",
   "execution_count": null,
   "metadata": {
    "collapsed": true
   },
   "outputs": [],
   "source": [
    "# scale needed cols = \n",
    "# scaled_df \n",
    "scale_needed_cols = dummified_df.columns[4:13]\n",
    "scaled_df = dummified_df.copy()\n",
    "scaled_df[scale_needed_cols] = (X_df[scale_needed_cols] - X_df[scale_needed_cols].mean())/ X_df[scale_needed_cols].std()"
   ]
  },
  {
   "cell_type": "code",
   "execution_count": null,
   "metadata": {
    "collapsed": true
   },
   "outputs": [],
   "source": [
    "scaled_df[scale_needed_cols]"
   ]
  },
  {
   "cell_type": "markdown",
   "metadata": {},
   "source": [
    "#### 5-2. 비누 구매 고객 세분화\n",
    "---\n",
    "- 구매 행동(구매량, 빈도, 할인에 대한 민감성, 브랜드 충성도), 구매 기반(가격, 구매제의) 등의 변수를 이용하여 군집화하라\n",
    "- 어떤 군집화 방법을 선택할 것인가? 그 이유는 무엇인가?\n",
    "- k는 몇 개로 선택할 것인가? 한번에 진행 가능한 마케팅 전략이 2~5개라고 할 때 k의 개수는 타당한가? "
   ]
  },
  {
   "cell_type": "markdown",
   "metadata": {},
   "source": [
    "##### 변수 선택\n",
    "---\n",
    "구매행태에 관련있는 No. of Brands ~ PropCat 15까지를 구매 패턴과 관련된 군집화의 변수로 사용한다."
   ]
  },
  {
   "cell_type": "code",
   "execution_count": null,
   "metadata": {
    "collapsed": true
   },
   "outputs": [],
   "source": [
    "# Select Features\n",
    "selected_feautures = scaled_df.columns[5:40]\n",
    "selected_features_df = scaled_df[selected_feautures]"
   ]
  },
  {
   "cell_type": "markdown",
   "metadata": {},
   "source": [
    "##### 방법 선정\n",
    "---\n",
    "AgglomerativeClustering을 사용한다. Dendrogram을 통해 클러스터의 거리 차를 토대로 k를 선정할 수 있으며, "
   ]
  },
  {
   "cell_type": "code",
   "execution_count": null,
   "metadata": {
    "collapsed": true
   },
   "outputs": [],
   "source": [
    "# Choose Methods\n",
    "Z = linkage(selected_features_df, 'ward')\n",
    "plot_dendrogram('Bath Soap Member Clustering', \"Index\", 'Distance'\n",
    "                , Z)"
   ]
  },
  {
   "cell_type": "markdown",
   "metadata": {},
   "source": [
    "##### k 선정\n",
    "---\n",
    "Dendrogram 상으로 보았을 때 4개의 k를 선정하는 것이 가장 타당한 것으로 보인다. 수립할 수 있는 마케팅 전략의 개수와 유사하다."
   ]
  },
  {
   "cell_type": "code",
   "execution_count": null,
   "metadata": {
    "collapsed": true
   },
   "outputs": [],
   "source": [
    "plot_dendrogram('Bath Soap Member Clustering', \"Index\", 'Distance'\n",
    "                , Z, p=10, max_d=40)"
   ]
  },
  {
   "cell_type": "code",
   "execution_count": null,
   "metadata": {
    "collapsed": true
   },
   "outputs": [],
   "source": [
    "predicted_labels_bath_soap = fcluster(Z, 40, criterion='distance')"
   ]
  },
  {
   "cell_type": "code",
   "execution_count": null,
   "metadata": {
    "collapsed": true
   },
   "outputs": [],
   "source": [
    "scaled_df['predicted_labels'] = predicted_labels_bath_soap "
   ]
  },
  {
   "cell_type": "markdown",
   "metadata": {},
   "source": [
    "#### 5-3. 타겟 클러스터 선정 및 마케팅 기획\n",
    "---\n",
    "* 분석된 세분화에서 두 개의 클러스터를 선정하고, 그 집단의 특성에 대해 분석하시오.\n",
    "* 선정한 두 클러스터에 대한 마케팅 전략을 수립하시오."
   ]
  },
  {
   "cell_type": "code",
   "execution_count": null,
   "metadata": {
    "collapsed": true
   },
   "outputs": [],
   "source": [
    "# Analysis\n",
    "scaled_df.groupby('predicted_labels').mean().iloc[:, :40]"
   ]
  },
  {
   "cell_type": "code",
   "execution_count": null,
   "metadata": {
    "collapsed": true
   },
   "outputs": [],
   "source": []
  }
 ],
 "metadata": {
  "anaconda-cloud": {},
  "kernelspec": {
   "display_name": "Python 3",
   "language": "python",
   "name": "python3"
  },
  "language_info": {
   "codemirror_mode": {
    "name": "ipython",
    "version": 3
   },
   "file_extension": ".py",
   "mimetype": "text/x-python",
   "name": "python",
   "nbconvert_exporter": "python",
   "pygments_lexer": "ipython3",
   "version": "3.6.1"
  }
 },
 "nbformat": 4,
 "nbformat_minor": 2
}
